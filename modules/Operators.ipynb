{
 "cells": [
  {
   "cell_type": "code",
   "execution_count": 1,
   "metadata": {},
   "outputs": [
    {
     "name": "stdout",
     "output_type": "stream",
     "text": [
      "g $ elem = begin  # /Users/erin/Documents/julia-workspace/helpers/Operators.jl, line 17:\n",
      "        DiGraph(2)\n",
      "    end = Operators.$\n"
     ]
    },
    {
     "ename": "LoadError",
     "evalue": "\u001b[91mUndefVarError: g not defined\u001b[39m",
     "output_type": "error",
     "traceback": [
      "\u001b[91mUndefVarError: g not defined\u001b[39m",
      "",
      "Stacktrace:",
      " [1] \u001b[1mmacro expansion\u001b[22m\u001b[22m at \u001b[1m./show.jl:243\u001b[22m\u001b[22m [inlined]",
      " [2] \u001b[1mgraph_mapping\u001b[22m\u001b[22m\u001b[1m(\u001b[22m\u001b[22m::UnitRange{Int64}, ::#f\u001b[1m)\u001b[22m\u001b[22m at \u001b[1m/Users/erin/Documents/julia-workspace/helpers/Operators.jl:18\u001b[22m\u001b[22m",
      " [3] \u001b[1m↦\u001b[22m\u001b[22m\u001b[1m(\u001b[22m\u001b[22m::UnitRange{Int64}, ::Function\u001b[1m)\u001b[22m\u001b[22m at \u001b[1m/Users/erin/Documents/julia-workspace/helpers/Operators.jl:11\u001b[22m\u001b[22m",
      " [4] \u001b[1minclude_string\u001b[22m\u001b[22m\u001b[1m(\u001b[22m\u001b[22m::String, ::String\u001b[1m)\u001b[22m\u001b[22m at \u001b[1m./loading.jl:522\u001b[22m\u001b[22m"
     ]
    }
   ],
   "source": [
    "push!(LOAD_PATH, \".\")\n",
    "using Operators\n",
    "using TikzGraphs\n",
    "using GraphPlot\n",
    "\n",
    "X = 1:3\n",
    "f(x) = 2 * x\n",
    "mapping  = X ↦ f\n",
    "TikzGraphs.plot( mapping[1] )\n",
    "TikzGraphs.plot( mapping[2] ) \n",
    "TikzGraphs.plot( mapping[3] )\n",
    "    "
   ]
  },
  {
   "cell_type": "code",
   "execution_count": null,
   "metadata": {},
   "outputs": [],
   "source": []
  }
 ],
 "metadata": {
  "kernelspec": {
   "display_name": "Julia 0.6.2",
   "language": "julia",
   "name": "julia-0.6"
  },
  "language_info": {
   "file_extension": ".jl",
   "mimetype": "application/julia",
   "name": "julia",
   "version": "0.6.2"
  }
 },
 "nbformat": 4,
 "nbformat_minor": 2
}
