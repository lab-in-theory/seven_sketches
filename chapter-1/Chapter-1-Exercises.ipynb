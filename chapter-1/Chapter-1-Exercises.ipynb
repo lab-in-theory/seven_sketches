{
 "cells": [
  {
   "cell_type": "markdown",
   "metadata": {},
   "source": [
    "## Exercise 1\n",
    "\n",
    "A function $f: \\mathbb{R} \\rightarrow \\mathbb{R}$ is\n",
    "\n",
    "* order-preserving if $x≤y$ implies $f(x)≤f(y)$, for all $x,y \\in \\mathbb{R}$;\n",
    "* metric-preserving if $\\left| \\ x−y \\ \\right|=\\left| \\ f(x)−f(y) \\ \\right|$;\n",
    "* addition-preserving if $f(x+y)=f(x)+f(y)$.\n",
    "\n",
    "In each of the three cases above, find an $f$ that is foo-preserving and an example of an $f$ that is not foo-preserving."
   ]
  },
  {
   "cell_type": "markdown",
   "metadata": {},
   "source": [
    "## Exercise 2\n",
    "\n",
    "What is the result of joining the following two systems\n",
    "\n",
    "![pic]()"
   ]
  },
  {
   "cell_type": "markdown",
   "metadata": {},
   "source": [
    "## Exercise 3\n",
    "\n",
    "1) Write down all the partitions of a two element set ${∙,∗}$, order them as above, and draw the Hasse diagram.\n",
    "\n",
    "2) Now do the same thing for a four element-set, say ${1,2,3,4}$. There should be $15$ partitions.\n",
    "\n",
    "Choose any two systems in your 15-element Hasse diagram, call them $A$ and $B$.\n",
    "\n",
    "3) What is $A∨B$, using the definition given in the paragraph above\n",
    "\n",
    "4) Is it true that $A \\le (A∨B)$ and $B \\le (A∨B)$?\n",
    "\n",
    "5) What are all the partitions $C$ for which both $A \\le C$ and $B \\le C$.\n",
    "\n",
    "6) Is it true that in each case, $(A∨B) \\le C$?"
   ]
  },
  {
   "cell_type": "markdown",
   "metadata": {},
   "source": [
    "## Exercise 4\n",
    "\n",
    "Now that we're about to dip our toe into the sea of logic, it's good to do an exercise involving the **Booleans**:\n",
    "\n",
    "$$ \\mathbb{B} = \\{ \\tt{true}, \\tt{false} \\} . $$\n",
    "\n",
    "This set becomes a poset where $\\tt{false}\\leq\\tt{false}$, $\\tt{false}\\leq\\textrm{true}$, and $\\tt{true}\\leq\\tt{true}$, but $\\tt{true}\\not\\leq\\tt{false}$. In other words $A\\leq B$ in the poset if $A$ implies $B$, often denoted $A\\implies B$.\n",
    "\n",
    "In any poset $A \\vee B$ stands for the **join** of $A$ and $B$: the least element of the poset that is greater than both $A$ and $B$. The join may not exist, but it is unique.\n",
    "\n",
    "In the poset $\\mathbb{B}$, what is\n",
    "\n",
    "1. $\\tt{true}\\lor\\tt{false}$?\n",
    "2. $\\tt{false}\\lor\\tt{true}$?\n",
    "3. $\\tt{true}\\lor\\tt{true}$?\n",
    "4. $\\tt{false}\\lor\\tt{false}$?"
   ]
  },
  {
   "cell_type": "markdown",
   "metadata": {},
   "source": [
    "## Exercise 5\n",
    "\n",
    "Let $A := \\{h, 1\\}$ and $B := \\{1, 2, 3\\}$.\n",
    "\n",
    "1. There are eight subsets of $B$; write them out.\n",
    "2. There are six elements in $A \\times B$; write them out."
   ]
  },
  {
   "cell_type": "markdown",
   "metadata": {},
   "source": [
    "## Exercise 6\n",
    "\n",
    "Consider the partition \n",
    "$[ \\ [11 \\ 12], \\ [13], \\ [21], \\ [22 \\ 23] \\ ]$\n",
    "\n",
    "Write down every pair $(a, b)$ such that $a \\sim b$. \n",
    "There should be 10."
   ]
  },
  {
   "cell_type": "markdown",
   "metadata": {},
   "source": [
    "## Exercise 7\n",
    "\n",
    "Consider the proof of Proposition 1.11. Suppose that $\\sim$ is an equivalence relation, and let $P$ be the set of $(\\sim)$-closed and $(\\sim)$-connected subsets $(A_p)_{p \\in P}$.\n",
    "\n",
    "1. Show that each $A_p$ is nonempty.\n",
    "2. Show that if $p \\neq q$, i.e. if $A_p$ and $A_q$ are not exactly the same set, then $A_p \\cap A_q = \\emptyset$.\n",
    "3. Show that $A = \\bigcup_{p \\in P} A_p$."
   ]
  },
  {
   "cell_type": "markdown",
   "metadata": {},
   "source": [
    "## Exercise 8\n",
    "\n",
    "Answer the following questions for each of the relations below\n",
    "\n",
    "![Figure](https://docs.google.com/drawings/d/e/2PACX-1vSFi8dNH3hU5j-T2ZxOR98UB-V-Ng9YOPyP9NC4SCVjEKDf_Uh2xqHIRJGAnNZPNDxQnfseseKOgmYC/pub?w=478&h=304)\n",
    "\n",
    "1. Is it a function? If so, why?\n",
    "2. If not, why not? If so, is it injective, surjective, both, or neither?\n",
    "\n",
    "3. Find two sets A and B and a function f : A → B that is injective but not surjective.\n",
    "4. Find two sets A and B and a function f : B → A that is surjective but not injective."
   ]
  },
  {
   "cell_type": "markdown",
   "metadata": {},
   "source": [
    "## Exercise 9\n",
    "\n",
    "Write down the surjection corresponding to each of these five partitions:\n",
    "\n",
    "![Figure](https://docs.google.com/drawings/d/e/2PACX-1vSG835Obqip348uaYkDev-x7hLV7V2BbDKwiId4irljBOLZQUCV9kVlBPNu74rlzXwsGV97CvZwU5tL/pub?w=478&h=304)"
   ]
  },
  {
   "cell_type": "markdown",
   "metadata": {},
   "source": [
    "## Exercise 10\n",
    "\n",
    "Does a collection of points, like the one in Example 1.25, count as a Hasse diagram?"
   ]
  },
  {
   "cell_type": "markdown",
   "metadata": {},
   "source": [
    "## Exercise 11\n",
    "\n",
    "Let $X$ be the set of partitions of ${•, ◦, ∗}$; it has five elements and an order by coarseness, as shown in the Hasse diagram $Eq. (1.2)$ [below]. \n",
    "Write down every pair $(x, y)$ of elements in $X$ such that $x \\le y$. There should be $12$.\n",
    "\n"
   ]
  },
  {
   "cell_type": "markdown",
   "metadata": {},
   "source": [
    "## Exercise 12\n",
    "\n",
    "Write down the numbers $1, 2, \\ldots, 10$ and draw an arrow $a \\to b$ if $a$ divides perfectly into $b$. Is it a total order?"
   ]
  },
  {
   "cell_type": "markdown",
   "metadata": {},
   "source": [
    "## Exercise 13\n",
    "\n",
    "Is the usual $\\leq$ ordering on the set $\\mathbb{R}$ of real numbers a total order?"
   ]
  },
  {
   "cell_type": "markdown",
   "metadata": {},
   "source": [
    "## Exercise 14\n",
    "\n",
    "Draw the Hasse diagrams for $P(\\emptyset)$, $P\\{1\\}$, and $P\\{1, 2\\}$ where $P(X)$ is the power set of $X$, e.g. \n",
    "\n",
    "$$ P \\{1, 2\\} = \\{\\emptyset, \\{1\\}, \\{2\\}, \\{1,2\\}\\}. $$"
   ]
  },
  {
   "cell_type": "markdown",
   "metadata": {},
   "source": [
    "## Exercise 15\n",
    "\n",
    "1. For any set $S$ there is a coarsest partition, having just one part. What surjective function does it correspond to?\n",
    "\n",
    "2. There is also a finest partition, where everything is in its own partition. What surjective function does it correspond to?\n",
    "\n"
   ]
  },
  {
   "cell_type": "markdown",
   "metadata": {},
   "source": [
    "## Exercise 16\n",
    "\n",
    "Prove that the poset of upper sets on a discrete poset (see Example 1.25) on a set $X$ is simply the power set $P(X)$."
   ]
  },
  {
   "cell_type": "code",
   "execution_count": null,
   "metadata": {},
   "outputs": [],
   "source": []
  }
 ],
 "metadata": {
  "kernelspec": {
   "display_name": "Julia 0.6.2",
   "language": "julia",
   "name": "julia-0.6"
  },
  "language_info": {
   "file_extension": ".jl",
   "mimetype": "application/julia",
   "name": "julia",
   "version": "0.6.2"
  }
 },
 "nbformat": 4,
 "nbformat_minor": 2
}
